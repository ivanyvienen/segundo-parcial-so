{
 "cells": [
  {
   "cell_type": "code",
   "execution_count": 1,
   "metadata": {},
   "outputs": [
    {
     "name": "stdout",
     "output_type": "stream",
     "text": [
      "total 68\n",
      "drwxr-xr-x 10 vagrant vagrant 4096 Sep 11 10:02 \u001b[0m\u001b[01;34m.\u001b[0m\n",
      "drwxr-xr-x  3 root    root    4096 Feb 23  2018 \u001b[01;34m..\u001b[0m\n",
      "-rw-------  1 vagrant vagrant   31 Sep  4 09:49 .bash_history\n",
      "-rw-r--r--  1 vagrant vagrant  220 Feb 23  2018 .bash_logout\n",
      "-rw-r--r--  1 vagrant vagrant 3713 Apr 22 14:20 .bashrc\n",
      "drwx------  3 vagrant vagrant 4096 Apr 22 14:28 \u001b[01;34m.cache\u001b[0m\n",
      "drwxr-xr-x  2 vagrant vagrant 4096 Sep 11 09:58 \u001b[01;34m.ipynb_checkpoints\u001b[0m\n",
      "drwxr-xr-x  5 vagrant vagrant 4096 Sep 11 09:57 \u001b[01;34m.ipython\u001b[0m\n",
      "drwx------  6 vagrant vagrant 4096 Sep 11 09:35 \u001b[01;34m.local\u001b[0m\n",
      "drwxr-xr-x  2 vagrant vagrant 4096 Feb 23  2018 \u001b[01;34m.nano\u001b[0m\n",
      "-rw-r--r--  1 vagrant vagrant  675 Feb 23  2018 .profile\n",
      "drwxrwxrwx  1 vagrant vagrant 4096 Aug 30 12:14 \u001b[34;42mproyecto\u001b[0m\n",
      "drwxr-xr-x 13 vagrant vagrant 4096 Apr 22 14:20 \u001b[01;34m.pyenv\u001b[0m\n",
      "drwx------  2 vagrant vagrant 4096 Sep  4 08:41 \u001b[01;34m.ssh\u001b[0m\n",
      "-rw-r--r--  1 vagrant vagrant  427 Sep 11 10:02 Untitled1.ipynb\n",
      "-rw-r--r--  1 vagrant vagrant   72 Sep 11 09:57 Untitled.ipynb\n",
      "-rw-r--r--  1 vagrant vagrant  180 Feb 23  2018 .wget-hsts\n"
     ]
    }
   ],
   "source": [
    "ls -al"
   ]
  },
  {
   "cell_type": "markdown",
   "metadata": {},
   "source": [
    "# QUE ES UN SISTEMA OPERATIVO \n",
    "\n",
    "El Sistema Operativo (SO) es el programa o software básico de un ordenador. Es una plataforma que facilita la interacción entre el usuario y los demás programas del ordenador y los dispositivos de hardware. Las funciones básicas del Sistema Operativo son administrar los recursos del ordenador,\n",
    "coordinar el hardware y organizar los archivos y directorios de su sistema."
   ]
  },
  {
   "cell_type": "markdown",
   "metadata": {},
   "source": [
    "# TIPOS DE SISTEMAS OPERATIVOS \n",
    "\n",
    "MONOTAREA\n",
    "\n",
    "MULTITAREA\n",
    "\n",
    "MONOUSUARIO\n",
    "\n",
    "MULTIUSUARIO \n",
    "\n",
    "MONO PROCESO \n",
    "\n",
    "MULTI PROCESO "
   ]
  },
  {
   "cell_type": "markdown",
   "metadata": {},
   "source": [
    "# Hilos (threads)\n",
    "\n",
    "Un hilo o proceso ligero es una unidad básica de ejecución, con su propio: contador de programa registros de CPU pila (stack).\n",
    "\n",
    "Los hilos dentro de una misma aplicación comparten: código y datos recursos del S.O. (ficheros, E/S, etc.).\n",
    "\n",
    "La creación de un nuevo hilo es una característica que permite a una aplicación realizar varias tareas a la vez (concurrentemente). Los distintos hilos de ejecución comparten una serie de recursos tales como el espacio de memoria, los archivos abiertos, situación de autenticación, etc. Esta técnica permite simplificar el diseño de una aplicación que debe llevar a cabo distintas funciones simultáneamente."
   ]
  },
  {
   "cell_type": "markdown",
   "metadata": {},
   "source": [
    "# Proceso.\n",
    "\n",
    "Espíritu animado de un programa\n",
    "Es una ejecución concreta de un programa, con un camino determinado\n",
    "y un valor de sus variables determinados.\n",
    "\n",
    "La unidad mínima de expedición y de asignación de recursos es el proceso.\n",
    "\n",
    "-Estados en los que puede estar un proceso.\n",
    "\n",
    "1 Listo. Tiene todo lo necesario para ejecutarse excepto el procesador.\n",
    "\n",
    "2 Suspendido. No está en memoria principal.\n",
    "\n",
    "3 Bloqueado. Está esperando un evento.\n",
    "\n",
    "4 Bloqueado y suspendido.\n",
    "\n",
    "5 Listo y suspendido."
   ]
  },
  {
   "cell_type": "markdown",
   "metadata": {},
   "source": [
    "# DIFERENCIA ENTRO PROCESO Y HILOS \n",
    "Los hilos se distinguen de los tradicionales procesos en que \n",
    "los procesos son generalmente independientes, llevan bastante\n",
    "información de estados, e interactúan sólo a través de mecanismos \n",
    "de comunicación dados por el sistema. Por otra parte, muchos hilos\n",
    "generalmente comparten otros recursos directamente. En muchos de los \n",
    "sistemas operativos que proveen facilidades para los hilos, es más \n",
    "rápido cambiar de un hilo a otro dentro del mismo proceso, que cambiar\n",
    "de un proceso a otro. Este fenómeno se debe a que los hilos\n",
    "comparten datos y espacios de direcciones, mientras \n",
    "los procesos al ser independientes no lo hacen."
   ]
  },
  {
   "cell_type": "markdown",
   "metadata": {},
   "source": [
    "# Comando nice\n",
    "El comando nice en Linux nos permite modificar la prioridad de un proceso frente al resto dentro del sistema. El kernel Linux es el encargado de planificar y asignar tiempo de CPU a cada uno de los procesos que corren en el sistema. El rango de asignación de prioridad disponible es de -20 a 19 , siendo -20 la mayor prioridad y 19 la menor. Gracias a nice podemos asegurarnos que en momentos de usos elevados de CPU los procesos adecuados reciban el mayor % de la misma."
   ]
  },
  {
   "cell_type": "markdown",
   "metadata": {},
   "source": [
    "# Comandos basicos de Linux\n",
    "\n",
    "aqui vamos a documentar alginos comandos basicos de Linux\n"
   ]
  },
  {
   "cell_type": "markdown",
   "metadata": {},
   "source": [
    "# Comando **ls** \n",
    "Nos muestra en pantalla un listado de archivos del escritorio donde estemos posicionados o bien recibe un parametro de la ruta de listar."
   ]
  },
  {
   "cell_type": "code",
   "execution_count": 2,
   "metadata": {},
   "outputs": [
    {
     "name": "stdout",
     "output_type": "stream",
     "text": [
      "\u001b[0m\u001b[34;42mproyecto\u001b[0m  Untitled1.ipynb  Untitled.ipynb\n"
     ]
    }
   ],
   "source": [
    "ls"
   ]
  },
  {
   "cell_type": "code",
   "execution_count": 21,
   "metadata": {},
   "outputs": [
    {
     "name": "stdout",
     "output_type": "stream",
     "text": [
      "\u001b[0m\u001b[01;34m.\u001b[0m              \u001b[01;34mcopiame\u001b[0m                     \u001b[01;34m.local\u001b[0m    Untitled1.ipynb\n",
      "\u001b[01;34m..\u001b[0m             copianueva-Untitled2.ipynb  \u001b[01;34m.nano\u001b[0m     Untitled.ipynb\n",
      ".bash_history  copia-Untitled.ipynd        .profile  .wget-hsts\n",
      ".bash_logout   \u001b[01;34m.ipynb_checkpoints\u001b[0m          \u001b[34;42mproyecto\u001b[0m\n",
      ".bashrc        \u001b[01;34m.ipython\u001b[0m                    \u001b[01;34m.pyenv\u001b[0m\n",
      "\u001b[01;34m.cache\u001b[0m         \u001b[01;34m.jupyter\u001b[0m                    \u001b[01;34m.ssh\u001b[0m\n"
     ]
    }
   ],
   "source": [
    "ls -a /home/vagrant"
   ]
  },
  {
   "cell_type": "markdown",
   "metadata": {},
   "source": [
    "el parametro **-a** muestra todos los archivos (ocuktos y no ocultos)\n",
    "este parametro se puede mezclar con otro parametros"
   ]
  },
  {
   "cell_type": "code",
   "execution_count": null,
   "metadata": {},
   "outputs": [],
   "source": [
    "# copiar arcivos y directorios \n",
    "\n",
    "para copiar archiovs y directorios en Linux podemis usar el comando **cp**\n",
    "\n",
    "el primer parametro es el nombre del archivo o directorio de origen, \n",
    "y el segundo parametro es el archivo o ruta donde se creara la copia de este."
   ]
  },
  {
   "cell_type": "code",
   "execution_count": 14,
   "metadata": {},
   "outputs": [
    {
     "name": "stdout",
     "output_type": "stream",
     "text": [
      "\u001b[0m\u001b[01;34mcopiame\u001b[0m                     copia-Untitled.ipynd  Untitled1.ipynb\n",
      "copianueva-Untitled2.ipynb  \u001b[34;42mproyecto\u001b[0m              Untitled.ipynb\n"
     ]
    }
   ],
   "source": [
    "ls"
   ]
  },
  {
   "cell_type": "code",
   "execution_count": 2,
   "metadata": {},
   "outputs": [],
   "source": [
    "cp Untitled.ipynb copia-Untitled.ipynd"
   ]
  },
  {
   "cell_type": "code",
   "execution_count": 4,
   "metadata": {},
   "outputs": [],
   "source": [
    "mkdir copiame "
   ]
  },
  {
   "cell_type": "code",
   "execution_count": 6,
   "metadata": {},
   "outputs": [],
   "source": [
    "cp Untitled.ipynb copiame/copia-Untitled2.ipynb"
   ]
  },
  {
   "cell_type": "code",
   "execution_count": 7,
   "metadata": {},
   "outputs": [
    {
     "name": "stdout",
     "output_type": "stream",
     "text": [
      "copia-Untitled2.ipynb\n"
     ]
    }
   ],
   "source": [
    "ls copiame"
   ]
  },
  {
   "cell_type": "code",
   "execution_count": 8,
   "metadata": {},
   "outputs": [
    {
     "name": "stdout",
     "output_type": "stream",
     "text": [
      "/home/vagrant\n"
     ]
    }
   ],
   "source": [
    "pwd"
   ]
  },
  {
   "cell_type": "markdown",
   "metadata": {},
   "source": [
    "El comando **pwd** nos imprime en consola el directorio donde esstmaos posicionados "
   ]
  },
  {
   "cell_type": "code",
   "execution_count": 13,
   "metadata": {},
   "outputs": [],
   "source": [
    "cp copiame/copia-Untitled2.ipynb ./copianueva-Untitled2.ipynb"
   ]
  },
  {
   "cell_type": "markdown",
   "metadata": {},
   "source": [
    "# Comando tree\n",
    "El comando **tree** nos permite imprimir en consola la estructura de directorios y\n",
    "sus archivos, lo muestra en un diagrama de niveles y sub-niveles"
   ]
  },
  {
   "cell_type": "code",
   "execution_count": 18,
   "metadata": {},
   "outputs": [
    {
     "name": "stdout",
     "output_type": "stream",
     "text": [
      "\u001b[01;34m/home\u001b[00m\n",
      "└── \u001b[01;34mvagrant\u001b[00m\n",
      "    ├── \u001b[01;34mcopiame\u001b[00m\n",
      "    │   └── copia-Untitled2.ipynb\n",
      "    ├── copianueva-Untitled2.ipynb\n",
      "    ├── copia-Untitled.ipynd\n",
      "    ├── \u001b[34;42mproyecto\u001b[00m\n",
      "    │   ├── \u001b[01;32mDebian9.8x64-pythondev.box\u001b[00m\n",
      "    │   └── \u001b[01;32mVagrantfile\u001b[00m\n",
      "    ├── Untitled1.ipynb\n",
      "    └── Untitled.ipynb\n",
      "\n",
      "3 directories, 7 files\n"
     ]
    }
   ],
   "source": [
    "tree /home"
   ]
  },
  {
   "cell_type": "code",
   "execution_count": 1,
   "metadata": {},
   "outputs": [
    {
     "name": "stdout",
     "output_type": "stream",
     "text": [
      "  PID TTY          TIME CMD\n",
      "    1 ?        00:00:01 systemd\n",
      "    2 ?        00:00:00 kthreadd\n",
      "    3 ?        00:00:00 ksoftirqd/0\n",
      "    5 ?        00:00:00 kworker/0:0H\n",
      "    7 ?        00:00:00 rcu_sched\n",
      "    8 ?        00:00:00 rcu_bh\n",
      "    9 ?        00:00:00 migration/0\n",
      "   10 ?        00:00:00 lru-add-drain\n",
      "   11 ?        00:00:00 watchdog/0\n",
      "   12 ?        00:00:00 cpuhp/0\n",
      "   13 ?        00:00:00 kdevtmpfs\n",
      "   14 ?        00:00:00 netns\n",
      "   15 ?        00:00:00 khungtaskd\n",
      "   16 ?        00:00:00 oom_reaper\n",
      "   17 ?        00:00:00 writeback\n",
      "   18 ?        00:00:00 kcompactd0\n",
      "   19 ?        00:00:00 ksmd\n",
      "   21 ?        00:00:00 khugepaged\n",
      "   22 ?        00:00:00 crypto\n",
      "   23 ?        00:00:00 kintegrityd\n",
      "   24 ?        00:00:00 bioset\n",
      "   25 ?        00:00:00 kblockd\n",
      "   26 ?        00:00:00 devfreq_wq\n",
      "   27 ?        00:00:00 watchdogd\n",
      "   28 ?        00:00:00 kswapd0\n",
      "   29 ?        00:00:00 vmstat\n",
      "   41 ?        00:00:00 kthrotld\n",
      "   42 ?        00:00:00 ipv6_addrconf\n",
      "   75 ?        00:00:00 kworker/0:2\n",
      "   76 ?        00:00:00 ata_sff\n",
      "   83 ?        00:00:00 kworker/u2:1\n",
      "  103 ?        00:00:00 scsi_eh_0\n",
      "  104 ?        00:00:00 scsi_tmf_0\n",
      "  105 ?        00:00:00 scsi_eh_1\n",
      "  106 ?        00:00:00 scsi_tmf_1\n",
      "  107 ?        00:00:00 scsi_eh_2\n",
      "  108 ?        00:00:00 scsi_tmf_2\n",
      "  109 ?        00:00:00 kworker/u2:2\n",
      "  111 ?        00:00:00 bioset\n",
      "  112 ?        00:00:00 bioset\n",
      "  114 ?        00:00:00 kworker/0:1H\n",
      "  115 ?        00:00:00 kworker/0:3\n",
      "  142 ?        00:00:00 kworker/u3:0\n",
      "  157 ?        00:00:00 jbd2/sda1-8\n",
      "  158 ?        00:00:00 ext4-rsv-conver\n",
      "  186 ?        00:00:00 systemd-journal\n",
      "  189 ?        00:00:00 kauditd\n",
      "  212 ?        00:00:00 systemd-udevd\n",
      "  298 ?        00:00:00 ttm_swap\n",
      "  304 ?        00:00:00 iprt-VBoxWQueue\n",
      "  389 ?        00:00:00 cron\n",
      "  390 ?        00:00:00 systemd-logind\n",
      "  391 ?        00:00:00 rsyslogd\n",
      "  392 ?        00:00:00 dbus-daemon\n",
      "  429 ?        00:00:00 dhclient\n",
      "  463 tty1     00:00:00 agetty\n",
      "  655 ?        00:00:00 sshd\n",
      " 1233 ?        00:00:00 VBoxService\n",
      " 1243 ?        00:00:00 exim4\n",
      " 1247 ?        00:00:00 sshd\n",
      " 1249 ?        00:00:00 systemd\n",
      " 1250 ?        00:00:00 (sd-pam)\n",
      " 1256 ?        00:00:00 sshd\n",
      " 1257 pts/0    00:00:00 bash\n",
      " 1345 pts/0    00:00:05 jupyter-lab\n",
      " 1352 ?        00:00:00 python\n",
      " 1355 ?        00:00:00 python\n",
      " 1376 pts/1    00:00:00 bash\n",
      " 1464 ?        00:00:00 kworker/0:0\n",
      " 1465 pts/1    00:00:00 ps\n"
     ]
    }
   ],
   "source": [
    "ps -e"
   ]
  },
  {
   "cell_type": "code",
   "execution_count": 6,
   "metadata": {},
   "outputs": [
    {
     "name": "stdout",
     "output_type": "stream",
     "text": [
      "nice: cannot set niceness: Permission denied\n",
      "Usage: ping [-aAbBdDfhLnOqrRUvV64] [-c count] [-i interval] [-I interface]\n",
      "            [-m mark] [-M pmtudisc_option] [-l preload] [-p pattern] [-Q tos]\n",
      "            [-s packetsize] [-S sndbuf] [-t ttl] [-T timestamp_option]\n",
      "            [-w deadline] [-W timeout] [hop1 ...] destination\n",
      "Usage: ping -6 [-aAbBdDfhLnOqrRUvV] [-c count] [-i interval] [-I interface]\n",
      "             [-l preload] [-m mark] [-M pmtudisc_option]\n",
      "             [-N nodeinfo_option] [-p pattern] [-Q tclass] [-s packetsize]\n",
      "             [-S sndbuf] [-t ttl] [-T timestamp_option] [-w deadline]\n",
      "             [-W timeout] destination\n"
     ]
    },
    {
     "ename": "",
     "evalue": "2",
     "output_type": "error",
     "traceback": []
    }
   ],
   "source": [
    "nice -n -5 ping"
   ]
  },
  {
   "cell_type": "markdown",
   "metadata": {},
   "source": [
    "# Comando Top\n",
    "El comando top nos da información acerca del uso de la cpu, de la memoria, de los procesos en ejecución, etc en tiempo real.\n",
    "Nos puede ayudar a monitorizar nuestro servidor dedicado si notamos que algo no funciona bien. En ocasiones podemos notar alguna incidencia y gracias al comando top, podemos encaminarnos hacia la causa del problema.\n"
   ]
  },
  {
   "cell_type": "code",
   "execution_count": null,
   "metadata": {},
   "outputs": [],
   "source": [
    "top"
   ]
  },
  {
   "cell_type": "markdown",
   "metadata": {},
   "source": [
    "# Comando Mkdir\n",
    "sirve para crear carpetas (directorios), no trabaja si existe un directorio con el mismo nombre. Acrónimo del ingles \"make directory\", que en español significa hacer directorios.\n"
   ]
  },
  {
   "cell_type": "code",
   "execution_count": null,
   "metadata": {},
   "outputs": [],
   "source": [
    "mkdir"
   ]
  },
  {
   "cell_type": "markdown",
   "metadata": {},
   "source": [
    "# Comando Htop\n",
    "nos da un listado de los procesos en ejecución en tiempo real y además un resumen del uso de CPU y de Memoria RAM, es bastante util pero tiene algunos fallos, además de no ser muy claro con la memoria ram utilizada y otros valores le faltan algunas opciones interesantes como poder ordenar por cualquier dato, de todos modos es util y se puede utilizar\n"
   ]
  },
  {
   "cell_type": "code",
   "execution_count": null,
   "metadata": {},
   "outputs": [],
   "source": []
  },
  {
   "cell_type": "markdown",
   "metadata": {},
   "source": [
    " # Comando cp\n",
    "Que te permite copiar archivos y directorios pero no solo eso, cp es un comando linux rico en funcionalidades además te permite copiar enlaces (duros y simbólicos), permisos, propiedades, etc.\n"
   ]
  },
  {
   "cell_type": "code",
   "execution_count": null,
   "metadata": {},
   "outputs": [],
   "source": [
    "cp "
   ]
  },
  {
   "cell_type": "markdown",
   "metadata": {},
   "source": [
    "# Comando mv \n",
    "usado para mover o renombrar archivos o directorios del\n",
    "sistema de archivos. El archivo original es borrado y se crea un nuevo \n",
    "archivo con el mismo contenido, el nombre puede ser diferente o puede ser el mismo.\n"
   ]
  },
  {
   "cell_type": "code",
   "execution_count": null,
   "metadata": {},
   "outputs": [],
   "source": [
    "mv "
   ]
  },
  {
   "cell_type": "markdown",
   "metadata": {},
   "source": [
    "# Comando Pwd\n",
    "Se utiliza para imprimir el nombre del directorio actual en una sesión de comandos bajo un sistema operativo Unix o derivado.\n"
   ]
  },
  {
   "cell_type": "code",
   "execution_count": null,
   "metadata": {},
   "outputs": [],
   "source": [
    "pwd"
   ]
  },
  {
   "cell_type": "markdown",
   "metadata": {},
   "source": [
    "# Estructura de directorios de Linux\n",
    "\n",
    "/bin - aplicaciones binarias importantes\n",
    "\n",
    "/boot - Ficheros de configuración del arranque, núcleos y otros ficheros necesarios para el arranque (boot) del equipo.\n",
    "\n",
    "/dev - los ficheros de dispositivo\n",
    "\n",
    "/etc - ficheros de configuración, scripts de arranque, etc.\n",
    "\n",
    "/home - directorios personales (home) para los diferentes usuarios.\n",
    "\n",
    "/initrd - usado cuando se crea un proceso de arranque initrd personalizado.\n",
    "\n",
    "/lib - librerías del sistema (libraries)\n",
    "\n",
    "/lost+found - proporciona un sistema de \"perdido+encontrado\" (lost+found) para los ficheros que existen debajo del directorio raíz (/)\n",
    "\n",
    "/media - particiones montadas (cargadas) automáticamente en el disco duro y medios (media) extraíbles como CDs, cámaras digitales, etc.\n",
    "\n",
    "/mnt - sistemas de archivos montados manualmente en el disco duro.\n",
    "\n",
    "/opt - proporciona una ubicación donde instalar aplicaciones opcionales (de terceros)\n",
    "\n",
    "/proc - directorio dinámico especial que mantiene información sobre el estado del sistema, incluyendo los procesos actualmente en ejecución\n",
    "\n",
    "/root - directorio personal del usuario root (superusuario); también llamado \"barra-root\".\n",
    "\n",
    "/sbin - binarios importantes del sistema\n",
    "\n",
    "/srv - puede contener archivos que se sirven a otros sistemas\n",
    "\n",
    "/sys - archivos del sistema (system)\n",
    "\n",
    "/tmp - temporary files\n",
    "\n",
    "/usr - aplicaciones y archivos a los que puede acceder la mayoría de los usuarios\n",
    "\n",
    "/var - archivos variables como archivos de registros y bases de datos\n"
   ]
  }
 ],
 "metadata": {
  "kernelspec": {
   "display_name": "Bash",
   "language": "bash",
   "name": "bash"
  },
  "language_info": {
   "codemirror_mode": "shell",
   "file_extension": ".sh",
   "mimetype": "text/x-sh",
   "name": "bash"
  }
 },
 "nbformat": 4,
 "nbformat_minor": 2
}
